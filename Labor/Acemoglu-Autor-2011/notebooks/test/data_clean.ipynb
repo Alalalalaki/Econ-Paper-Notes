{
 "cells": [
  {
   "cell_type": "code",
   "execution_count": null,
   "id": "7fe0f826-f413-4473-b30e-fee21f1c14fb",
   "metadata": {},
   "outputs": [],
   "source": [
    "from util.addpath import addpath\n",
    "addpath(\"../code\")\n",
    "addpath(\"../code/MarchCPS\")"
   ]
  },
  {
   "cell_type": "code",
   "execution_count": null,
   "id": "bb93778f-8f18-4c5c-8a20-f98bbb636ec0",
   "metadata": {},
   "outputs": [],
   "source": [
    "from statsmodels.stats.weightstats import DescrStatsW\n",
    "from patsy import dmatrices"
   ]
  },
  {
   "cell_type": "markdown",
   "id": "d328e5a4-51ef-4d78-821c-8e07285fd35e",
   "metadata": {},
   "source": [
    "## March-CPS"
   ]
  },
  {
   "cell_type": "markdown",
   "id": "ecedc699-e89e-4c8f-a6cf-5e699d0000a5",
   "metadata": {},
   "source": [
    "### march-cleaners"
   ]
  },
  {
   "cell_type": "markdown",
   "id": "9f99a449-a1f8-4441-9a7f-6fcceca5f1dc",
   "metadata": {},
   "source": [
    "### cleaned-data  "
   ]
  },
  {
   "cell_type": "code",
   "execution_count": null,
   "id": "121936c5-15ce-4bd2-afe2-885b2d5b0286",
   "metadata": {},
   "outputs": [],
   "source": [
    "input_path = \"../../ref/origin/March-CPS/cleaned-data/\""
   ]
  },
  {
   "cell_type": "code",
   "execution_count": null,
   "id": "58e8828e-87e5-4a66-ad6c-94de23c8a9c7",
   "metadata": {},
   "outputs": [],
   "source": [
    "%ls $input_path"
   ]
  },
  {
   "cell_type": "markdown",
   "id": "68d9399f-c85c-4158-8462-d12007907cf3",
   "metadata": {},
   "source": [
    "#### variables"
   ]
  },
  {
   "cell_type": "code",
   "execution_count": null,
   "id": "b55b2a62-7267-4170-b3e8-5da6a19d8e90",
   "metadata": {},
   "outputs": [],
   "source": [
    "def show_var_label(y=1999): \n",
    "    data = pd.read_stata(input_path+f\"mar{str(y)[-2:]}.dta\", iterator = True)\n",
    "    labels = data.variable_labels()\n",
    "    print(len(labels))\n",
    "    return labels"
   ]
  },
  {
   "cell_type": "code",
   "execution_count": null,
   "id": "32890007-592b-4fd4-b0f0-898fba3f607a",
   "metadata": {},
   "outputs": [],
   "source": [
    "show_var_label(1966)"
   ]
  },
  {
   "cell_type": "markdown",
   "id": "0a23bd52-9f7c-4352-ab59-3b2a57ab664f",
   "metadata": {},
   "source": [
    "### prep_supply"
   ]
  },
  {
   "cell_type": "markdown",
   "id": "db3ee82b-2d1d-46a2-be16-4ec1edd5945f",
   "metadata": {},
   "source": [
    "#### prepmarchcell"
   ]
  },
  {
   "cell_type": "code",
   "execution_count": null,
   "id": "fac63470-fcc9-4416-97ce-c88fd856d33d",
   "metadata": {},
   "outputs": [],
   "source": [
    "from MarchCPS.prep_wage import tabulate_march_basic"
   ]
  },
  {
   "cell_type": "code",
   "execution_count": null,
   "id": "419575cc-d906-4fdd-80b4-34e9921a804f",
   "metadata": {},
   "outputs": [],
   "source": [
    "year = 2009"
   ]
  },
  {
   "cell_type": "markdown",
   "id": "d63d0c88-517d-4676-b872-66e91e607f6f",
   "metadata": {},
   "source": [
    "#### assembcellsmarch"
   ]
  },
  {
   "cell_type": "code",
   "execution_count": null,
   "id": "3600664d-7a98-4983-bc35-1292a66f178d",
   "metadata": {},
   "outputs": [],
   "source": [
    "from MarchCPS.prep_supply import assembcellsmarch"
   ]
  },
  {
   "cell_type": "code",
   "execution_count": null,
   "id": "eb3abdfc-47e2-4113-a7f8-a48bddc5cd65",
   "metadata": {},
   "outputs": [],
   "source": [
    "marchcells6308_ = assembcellsmarch()"
   ]
  },
  {
   "cell_type": "markdown",
   "id": "269dc30d-1026-4692-b49d-490516026cd2",
   "metadata": {},
   "source": [
    "#### effunit-supplies-exp-byexp"
   ]
  },
  {
   "cell_type": "code",
   "execution_count": null,
   "id": "1573140c-8c03-40e7-bb23-2e78d1df3609",
   "metadata": {},
   "outputs": [],
   "source": [
    "df = marchcells6308_.copy()"
   ]
  },
  {
   "cell_type": "code",
   "execution_count": null,
   "id": "eb6e2f76-4396-47f2-932e-04b8e3f310fd",
   "metadata": {},
   "outputs": [],
   "source": [
    "df"
   ]
  },
  {
   "cell_type": "markdown",
   "id": "28060b7f-2697-49df-8a14-1fed3932b590",
   "metadata": {},
   "source": [
    "### prep_wage"
   ]
  },
  {
   "cell_type": "markdown",
   "id": "e792ad1a-617f-424c-922d-8ece85255401",
   "metadata": {},
   "source": [
    "#### tab-march-ineq"
   ]
  },
  {
   "cell_type": "code",
   "execution_count": null,
   "id": "04faad24-9a91-4070-b562-58b4d082da2f",
   "metadata": {},
   "outputs": [],
   "source": [
    "df = pd.read_stata(input_path+f\"mar{str(1964)[-2:]}.dta\")"
   ]
  },
  {
   "cell_type": "markdown",
   "id": "cbebff18-cff5-421a-87bd-ac662201afd1",
   "metadata": {},
   "source": [
    "#### tab-march-ineq-loop"
   ]
  },
  {
   "cell_type": "code",
   "execution_count": null,
   "id": "028f1439-2524-4164-89e1-35666774a6cf",
   "metadata": {},
   "outputs": [],
   "source": [
    "from MarchCPS.prep_wage import tabulate_march_inequality_loop"
   ]
  },
  {
   "cell_type": "code",
   "execution_count": null,
   "id": "0bc084eb-2e4f-4d39-9bff-4d4bb2c55bb0",
   "metadata": {},
   "outputs": [],
   "source": [
    "ineq_stat = tabulate_march_inequality_loop()"
   ]
  },
  {
   "cell_type": "code",
   "execution_count": null,
   "id": "df9b2bb3-0009-42e3-bba7-ab0d8ace548f",
   "metadata": {},
   "outputs": [],
   "source": [
    "ineq_stat"
   ]
  },
  {
   "cell_type": "code",
   "execution_count": null,
   "id": "651f13d5-f9a9-490d-a8f5-b01812a73080",
   "metadata": {},
   "outputs": [],
   "source": []
  },
  {
   "cell_type": "markdown",
   "id": "acec7aa2-ef6d-4eba-9a86-70481a0d66c1",
   "metadata": {},
   "source": [
    "#### predict_archwg_regs_exp"
   ]
  },
  {
   "cell_type": "code",
   "execution_count": null,
   "id": "f3d827b8-4898-40c0-8c1f-36d86d7bee6b",
   "metadata": {},
   "outputs": [],
   "source": [
    "from MarchCPS.prep_wage import tabulate_march_basic"
   ]
  },
  {
   "cell_type": "code",
   "execution_count": null,
   "id": "69f90c9c-79d0-4c9b-973c-edf17bf1e5fa",
   "metadata": {},
   "outputs": [],
   "source": [
    "from MarchCPS.prep_wage import assemb_march_lswts_exp"
   ]
  },
  {
   "cell_type": "code",
   "execution_count": null,
   "id": "c95f3646-e93b-4c30-b81d-768c71fa1383",
   "metadata": {},
   "outputs": [],
   "source": [
    "march_lswts_exp = assemb_march_lswts_exp()"
   ]
  },
  {
   "cell_type": "markdown",
   "id": "4e5c07b6-6891-4419-b8e8-c2133ab37711",
   "metadata": {},
   "source": [
    "#### predict_archwg_regs_exp_loop"
   ]
  },
  {
   "cell_type": "code",
   "execution_count": null,
   "id": "89db2e1e-caf5-4f7f-aadb-16a35320d219",
   "metadata": {},
   "outputs": [],
   "source": [
    "from MarchCPS.prep_wage import predict_archwg_regs_exp"
   ]
  },
  {
   "cell_type": "code",
   "execution_count": null,
   "id": "3160383f-ec18-4412-a6db-44fe699213c1",
   "metadata": {},
   "outputs": [],
   "source": [
    "predwg_ = predict_archwg_regs_exp(year=1999)"
   ]
  },
  {
   "cell_type": "markdown",
   "id": "abe0887b-e366-411e-b96d-46c07cf2bc52",
   "metadata": {},
   "source": [
    "#### assemb-march-lswts-exp"
   ]
  },
  {
   "cell_type": "code",
   "execution_count": null,
   "id": "96df67e8-4652-4db8-bc40-8dfc2ad99c91",
   "metadata": {},
   "outputs": [],
   "source": [
    "df = marchcells6308_.copy()"
   ]
  },
  {
   "cell_type": "markdown",
   "id": "d66451f0-b057-4e92-b752-a35f433086f8",
   "metadata": {},
   "source": [
    "#### assemb-marchwg-regs-exp"
   ]
  },
  {
   "cell_type": "code",
   "execution_count": null,
   "id": "b6a33aa4-d19a-4279-8558-e5baa38ddfce",
   "metadata": {},
   "outputs": [],
   "source": [
    "from MarchCPS.prep_wage import predict_archwg_regs_exp_loop"
   ]
  },
  {
   "cell_type": "code",
   "execution_count": null,
   "id": "76b71dd0-d258-4a2e-8b76-f180696dbdaf",
   "metadata": {},
   "outputs": [],
   "source": [
    "predwg = predict_archwg_regs_exp_loop()"
   ]
  },
  {
   "cell_type": "markdown",
   "id": "ea5920ab-11fe-4b6a-9746-e116773be85c",
   "metadata": {},
   "source": [
    "#### calc-marchwg-byexp"
   ]
  },
  {
   "cell_type": "code",
   "execution_count": null,
   "id": "ca77c24b-9cc3-4936-b94f-c7ae653e4502",
   "metadata": {},
   "outputs": [],
   "source": [
    "from MarchCPS.prep_wage import assemb_marchwg_regs_exp"
   ]
  },
  {
   "cell_type": "code",
   "execution_count": null,
   "id": "613c6433-b70b-43ee-b9b5-2ba5df81a064",
   "metadata": {},
   "outputs": [],
   "source": [
    "from MarchCPS.prep_wage import calc_marchwg_byexp"
   ]
  },
  {
   "cell_type": "code",
   "execution_count": null,
   "id": "666400e0-91c2-429d-a21f-ee43d04ecbc0",
   "metadata": {},
   "outputs": [],
   "source": [
    "clghsgwg_march_regseries_exp = calc_marchwg_byexp()"
   ]
  },
  {
   "cell_type": "code",
   "execution_count": null,
   "id": "ba2d761e-1cc5-4064-b95b-2c9068387a66",
   "metadata": {},
   "outputs": [],
   "source": [
    "clghsgwg_march_regseries_exp"
   ]
  },
  {
   "cell_type": "code",
   "execution_count": null,
   "id": "9b8a93ab-c304-405d-a7d0-ec231fb6b152",
   "metadata": {},
   "outputs": [],
   "source": []
  }
 ],
 "metadata": {
  "kernelspec": {
   "display_name": "Python 3.8",
   "language": "python",
   "name": "python3"
  },
  "language_info": {
   "codemirror_mode": {
    "name": "ipython",
    "version": 3
   },
   "file_extension": ".py",
   "mimetype": "text/x-python",
   "name": "python",
   "nbconvert_exporter": "python",
   "pygments_lexer": "ipython3",
   "version": "3.8.12"
  }
 },
 "nbformat": 4,
 "nbformat_minor": 5
}

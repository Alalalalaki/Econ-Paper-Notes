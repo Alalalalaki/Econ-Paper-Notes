{
 "cells": [
  {
   "cell_type": "code",
   "execution_count": null,
   "id": "37910392-df86-444f-90ad-e073b15ef808",
   "metadata": {},
   "outputs": [],
   "source": []
  },
  {
   "cell_type": "markdown",
   "id": "fd8a21ce-6141-44d6-880e-80aac41ba55a",
   "metadata": {},
   "source": [
    "## Setup "
   ]
  },
  {
   "cell_type": "code",
   "execution_count": null,
   "id": "2b306c15-86c0-459d-a6c4-be2c348c73fc",
   "metadata": {},
   "outputs": [],
   "source": [
    "base_url = \"https://www2.census.gov/programs-surveys/bds/tables/time-series/\""
   ]
  },
  {
   "cell_type": "code",
   "execution_count": null,
   "id": "e81802b5-e68f-4e13-bfb0-cac4698c0754",
   "metadata": {},
   "outputs": [],
   "source": [
    "# https://www.census.gov/data/datasets/time-series/econ/bds/bds-datasets.html\n",
    "dff_a = pd.read_csv(base_url+\"bds2019_fa.csv\")\n",
    "dff_sa = pd.read_csv(base_url+\"bds2019_sec_fa.csv\")\n",
    "# dfe_sa = pd.read_csv(base_url+\"bds2019_sec_ea.csv\")"
   ]
  },
  {
   "cell_type": "code",
   "execution_count": null,
   "id": "85816d16-7def-48b0-8e2b-d529a2426b05",
   "metadata": {},
   "outputs": [],
   "source": [
    "from util.io import read_file\n",
    "BDS_cats = read_file(\"https://github.com/Alalalalaki/Econ-Data-Notes/raw/master/ByData/BDS/util/BDS_cats.pkl\")\n"
   ]
  },
  {
   "cell_type": "code",
   "execution_count": null,
   "id": "e5554ccb-e7a1-4ba6-9d21-b43d457c02ee",
   "metadata": {},
   "outputs": [],
   "source": [
    "BDS_cats[\"cat_sector\"]\n",
    "BDS_cats[\"cat_age\"]"
   ]
  },
  {
   "cell_type": "code",
   "execution_count": null,
   "id": "9679a62e-3202-4551-a3d1-16c7fdc802b6",
   "metadata": {},
   "outputs": [],
   "source": [
    "def clean(df):\n",
    "    df = df.replace(\"(X)\", np.NaN).apply(lambda x: pd.to_numeric(x, errors='ignore'))\n",
    "    df = df.query(\"year >= 1979\") # following literature\n",
    "    return df\n",
    "\n",
    "dff_a = dff_a.pipe(clean)\n",
    "dff_sa = dff_sa.pipe(clean)\n"
   ]
  },
  {
   "cell_type": "markdown",
   "id": "185defdc-16af-4a5f-ada4-d5aa51dac46e",
   "metadata": {},
   "source": [
    "## Empirical Facts"
   ]
  },
  {
   "cell_type": "markdown",
   "id": "ee4bf407-270b-414a-ad3b-bc0135bb9e81",
   "metadata": {},
   "source": [
    "### Fact 1"
   ]
  },
  {
   "cell_type": "markdown",
   "id": "7e7323db-d7cb-42df-b8af-794bac639e3b",
   "metadata": {},
   "source": [
    "**Note**:\n",
    "- In the paper they use \"cumulative net job creation since birth\", while in their appendix they also try use \"emp\" and the results are similar. Actually although in paper they say cumulative NJC does not yield exactly same as \"emp\" due to \"net job creation is clearned from not true startups\", actually in the data for age 0 these two varaibles are exactly the same. So although I haven't checked if cumulated NJC through historical records would equal to the \"emp\" for age>0 categories, I think it would not be very different and thus we directly use  \"emp\" here.\n",
    "- The employment deviation is quite different from the paper. This is not due to period used. This is not due to using job creation vs emp (as we have discussed). I guess this might be due to some recent data adjustment? Actually I check their replication package and find the data is different from 2019 data. And this is likely due to the redesign in 2018 version, see [here](https://twitter.com/ngoldschlag/status/1311360848741445638). Although not sure about the difference that I find here, this redesign seems to be large enough to change the image of some long-run trend e.g. establishment exit rate. Also given that this paper use the data even way earlier than the 2018 version, there could have more difference. \n",
    "- The recession years plot in the paper's figure 1 is somehow expand the recession period to one year before recession. But the basic pattern holds here."
   ]
  },
  {
   "cell_type": "code",
   "execution_count": null,
   "id": "ee8ba5a2-3659-4eb1-a95e-c260a57557ca",
   "metadata": {},
   "outputs": [],
   "source": [
    "# use the NBER recession indicator\n",
    "bc = pd.read_html(\"https://www.nber.org/research/data/us-business-cycle-expansions-and-contractions\")[0]\n",
    "\n",
    "def plot_recession(ax):\n",
    "    from matplotlib.patches import Rectangle\n",
    "    for _, i in bc.iloc[-6:,:].droplevel(0,axis=1).iterrows():\n",
    "        ax.add_patch(Rectangle((int(i[\"Peak Year\"]), ax.get_ylim()[0]),\n",
    "                               int(i[\"Trough Year\"])-int(i[\"Peak Year\"])+1,\n",
    "                                ax.get_ylim()[1]-ax.get_ylim()[0], \n",
    "                               color=\"grey\",alpha=0.5))"
   ]
  },
  {
   "cell_type": "code",
   "execution_count": null,
   "id": "6399080b-f935-43ea-9083-6916de7cf112",
   "metadata": {},
   "outputs": [],
   "source": [
    "fig, ax = plt.subplots()\n",
    "ages = [\"a) 0\", \"f) 5\"]\n",
    "for a in ages:\n",
    "    (dff_a.query(\"fage == @a\")\n",
    "        # .assign(emp_deviation = lambda x: x.emp.pct_change() ) # alternatively simply see growth rate, ok not very informative\n",
    "        .assign(emp_deviation = lambda x: x.emp / x.emp.mean() -1 )\n",
    "        # .assign(emp_deviation = lambda x: np.log(x.emp) - np.log(x.emp.mean())) # alternatively use log, same result \n",
    "        .assign(year = lambda x: x.year - int(a[-1:]))\n",
    "        .plot(\"year\", \"emp_deviation\", \n",
    "              label=f\"fage=={a} (shift back {int(a[-1:])}ys)\", \n",
    "              ax=ax)\n",
    "    )\n",
    "(dff_a\n",
    "    .groupby(\"year\")[\"emp\"].sum().pct_change()\n",
    "    .plot(label=\"Aggregate Employment Growth Rate\", ax=ax)\n",
    ")\n",
    "plt.legend()\n",
    "plot_recession(ax)\n",
    "\n",
    "ax.set(title=\"Employment Deviations From Period Mean (EMP)\");"
   ]
  },
  {
   "cell_type": "markdown",
   "id": "d11aad82-1e47-4210-be68-d53814ec82ab",
   "metadata": {},
   "source": [
    "**@directly looking at the entrant average size** (they study this in Appendix A.7, should move)"
   ]
  },
  {
   "cell_type": "code",
   "execution_count": null,
   "id": "1c94a652-91a8-46e6-a760-9f6d02ac8155",
   "metadata": {},
   "outputs": [],
   "source": [
    "age0 = \"a) 0\"\n",
    "(dff_a.query(\"fage == @age0\")\n",
    "    .assign(avgsize = lambda x: x.emp / x.firms)\n",
    "    .plot(\"year\", \"avgsize\", label=f\"fage=={year}\", title=\"Entrant Avgsize\")\n",
    ")\n",
    "plot_recession(plt.gca());"
   ]
  },
  {
   "cell_type": "code",
   "execution_count": null,
   "id": "ab81b8ed-bdf6-459e-8e65-96ebce1ece13",
   "metadata": {},
   "outputs": [],
   "source": [
    "fig,ax = plt.subplots(figsize=(6,12))\n",
    "(dff_sa.groupby(\"sector\").apply(lambda x: (x.query(\"fage == @age0\")\n",
    "    .assign(avgsize = lambda x: x.emp / x.firms)\n",
    "    .plot(\"year\", \"avgsize\", label=f\"sector=={x.name}\", ax=ax)) \n",
    "                               )\n",
    ");"
   ]
  },
  {
   "cell_type": "markdown",
   "id": "15b22a58-1c14-42ae-a26f-1fcf46cc22b5",
   "metadata": {},
   "source": [
    "### Fact 2"
   ]
  },
  {
   "cell_type": "markdown",
   "id": "baafc1f3-dbd8-4af9-ba8c-c0967dcb81a7",
   "metadata": {},
   "source": [
    "**Note**:\n",
    "- The the paper here uses \"log deviations from an HP trend taken across chorts of the same age\". We directly use above simple deviations from period mean. The result is weaken than the paper shows. This is partly due to the HP stuff as the appendix of the paper shows. But the further decline might relate to the above data adjustment. "
   ]
  },
  {
   "cell_type": "code",
   "execution_count": null,
   "id": "aa769e59-b6d8-4acb-a7a0-31eb359948b5",
   "metadata": {},
   "outputs": [],
   "source": [
    "emp_dev_age0 = (dff_a.query(\"fage == @age0\")\n",
    "     .assign(emp_deviation = lambda x: x.emp / x.emp.mean() -1)\n",
    "     .set_index(\"year\")[\"emp_deviation\"].rename(\"a0\")\n",
    ")\n",
    "ages = ['b) 1','c) 2','d) 3','e) 4','f) 5',]\n",
    "for a in ages:\n",
    "    emp_dev_agea = (dff_a.query(\"fage == @a\")\n",
    "     .assign(emp_deviation = lambda x: x.emp / x.emp.mean() -1)\n",
    "     .assign(year = lambda x: x.year - int(a[-1:]))\n",
    "     .set_index(\"year\")[\"emp_deviation\"].rename(\"aa\")\n",
    "    )\n",
    "    temp = pd.concat([emp_dev_age0,emp_dev_agea], join=\"inner\",axis=1)\n",
    "    print(f\"age=={a}:\", np.correlate(temp.a0, temp.aa))"
   ]
  },
  {
   "cell_type": "markdown",
   "id": "795f5d60-0f6f-4271-b8c8-a0973ec5c0ff",
   "metadata": {},
   "source": [
    "### Fact 3"
   ]
  },
  {
   "cell_type": "code",
   "execution_count": null,
   "id": "446fa80e-eae1-49ad-8a35-73186a0e9153",
   "metadata": {},
   "outputs": [],
   "source": []
  },
  {
   "cell_type": "code",
   "execution_count": null,
   "id": "824668fb-2d50-41f4-a4ff-d042f534bc76",
   "metadata": {},
   "outputs": [],
   "source": []
  },
  {
   "cell_type": "code",
   "execution_count": null,
   "id": "8a97f0bc-a15c-46b9-a544-6db95edc6093",
   "metadata": {},
   "outputs": [],
   "source": []
  }
 ],
 "metadata": {
  "kernelspec": {
   "display_name": "Python 3.8",
   "language": "python",
   "name": "python3"
  },
  "language_info": {
   "codemirror_mode": {
    "name": "ipython",
    "version": 3
   },
   "file_extension": ".py",
   "mimetype": "text/x-python",
   "name": "python",
   "nbconvert_exporter": "python",
   "pygments_lexer": "ipython3",
   "version": "3.8.12"
  }
 },
 "nbformat": 4,
 "nbformat_minor": 5
}
